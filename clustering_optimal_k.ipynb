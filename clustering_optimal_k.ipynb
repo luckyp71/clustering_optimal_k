{
 "cells": [
  {
   "cell_type": "markdown",
   "id": "b261e6cb",
   "metadata": {},
   "source": [
    "# Determine Optimal K for Clustering"
   ]
  },
  {
   "cell_type": "code",
   "execution_count": 127,
   "id": "f8d09923",
   "metadata": {},
   "outputs": [],
   "source": [
    "import pandas as pd\n",
    "from sklearn.cluster import KMeans\n",
    "from sklearn.metrics import silhouette_score\n",
    "import scipy.cluster.hierarchy as sch\n",
    "import matplotlib.pyplot as plt\n",
    "import seaborn as sns\n",
    "import re"
   ]
  },
  {
   "cell_type": "markdown",
   "id": "e17fcce5",
   "metadata": {},
   "source": [
    "data source can be downloaded here: https://www.kaggle.com/datasets/shwetabh123/mall-customers"
   ]
  },
  {
   "cell_type": "code",
   "execution_count": 119,
   "id": "68f0b5d7",
   "metadata": {},
   "outputs": [],
   "source": [
    "fp = '/home/lucky/Datasets/Mall_Customers.csv'"
   ]
  },
  {
   "cell_type": "code",
   "execution_count": 120,
   "id": "5c3960ac",
   "metadata": {},
   "outputs": [
    {
     "name": "stdout",
     "output_type": "stream",
     "text": [
      "<class 'pandas.core.frame.DataFrame'>\n",
      "RangeIndex: 200 entries, 0 to 199\n",
      "Data columns (total 5 columns):\n",
      " #   Column                  Non-Null Count  Dtype \n",
      "---  ------                  --------------  ----- \n",
      " 0   CustomerID              200 non-null    int64 \n",
      " 1   Gender                  200 non-null    object\n",
      " 2   Age                     200 non-null    int64 \n",
      " 3   Annual Income (k$)      200 non-null    int64 \n",
      " 4   Spending Score (1-100)  200 non-null    int64 \n",
      "dtypes: int64(4), object(1)\n",
      "memory usage: 7.9+ KB\n"
     ]
    }
   ],
   "source": [
    "df = pd.read_csv(fp)\n",
    "df.info()"
   ]
  },
  {
   "cell_type": "code",
   "execution_count": 121,
   "id": "a4d1a536",
   "metadata": {},
   "outputs": [
    {
     "data": {
      "text/html": [
       "<div>\n",
       "<style scoped>\n",
       "    .dataframe tbody tr th:only-of-type {\n",
       "        vertical-align: middle;\n",
       "    }\n",
       "\n",
       "    .dataframe tbody tr th {\n",
       "        vertical-align: top;\n",
       "    }\n",
       "\n",
       "    .dataframe thead th {\n",
       "        text-align: right;\n",
       "    }\n",
       "</style>\n",
       "<table border=\"1\" class=\"dataframe\">\n",
       "  <thead>\n",
       "    <tr style=\"text-align: right;\">\n",
       "      <th></th>\n",
       "      <th>customerid</th>\n",
       "      <th>gender</th>\n",
       "      <th>age</th>\n",
       "      <th>annualincomek</th>\n",
       "      <th>spendingscore</th>\n",
       "    </tr>\n",
       "  </thead>\n",
       "  <tbody>\n",
       "    <tr>\n",
       "      <th>0</th>\n",
       "      <td>1</td>\n",
       "      <td>Male</td>\n",
       "      <td>19</td>\n",
       "      <td>15</td>\n",
       "      <td>39</td>\n",
       "    </tr>\n",
       "    <tr>\n",
       "      <th>1</th>\n",
       "      <td>2</td>\n",
       "      <td>Male</td>\n",
       "      <td>21</td>\n",
       "      <td>15</td>\n",
       "      <td>81</td>\n",
       "    </tr>\n",
       "    <tr>\n",
       "      <th>2</th>\n",
       "      <td>3</td>\n",
       "      <td>Female</td>\n",
       "      <td>20</td>\n",
       "      <td>16</td>\n",
       "      <td>6</td>\n",
       "    </tr>\n",
       "    <tr>\n",
       "      <th>3</th>\n",
       "      <td>4</td>\n",
       "      <td>Female</td>\n",
       "      <td>23</td>\n",
       "      <td>16</td>\n",
       "      <td>77</td>\n",
       "    </tr>\n",
       "    <tr>\n",
       "      <th>4</th>\n",
       "      <td>5</td>\n",
       "      <td>Female</td>\n",
       "      <td>31</td>\n",
       "      <td>17</td>\n",
       "      <td>40</td>\n",
       "    </tr>\n",
       "  </tbody>\n",
       "</table>\n",
       "</div>"
      ],
      "text/plain": [
       "   customerid  gender  age  annualincomek  spendingscore\n",
       "0           1    Male   19             15             39\n",
       "1           2    Male   21             15             81\n",
       "2           3  Female   20             16              6\n",
       "3           4  Female   23             16             77\n",
       "4           5  Female   31             17             40"
      ]
     },
     "execution_count": 121,
     "metadata": {},
     "output_type": "execute_result"
    }
   ],
   "source": [
    "col = []\n",
    "[col.append(re.sub('[^a-zA-Z]','',i.lower())) for i in df.columns]\n",
    "df.columns = col\n",
    "df.head()"
   ]
  },
  {
   "cell_type": "code",
   "execution_count": 122,
   "id": "c3ea9ff1",
   "metadata": {},
   "outputs": [
    {
     "data": {
      "text/html": [
       "<div>\n",
       "<style scoped>\n",
       "    .dataframe tbody tr th:only-of-type {\n",
       "        vertical-align: middle;\n",
       "    }\n",
       "\n",
       "    .dataframe tbody tr th {\n",
       "        vertical-align: top;\n",
       "    }\n",
       "\n",
       "    .dataframe thead th {\n",
       "        text-align: right;\n",
       "    }\n",
       "</style>\n",
       "<table border=\"1\" class=\"dataframe\">\n",
       "  <thead>\n",
       "    <tr style=\"text-align: right;\">\n",
       "      <th></th>\n",
       "      <th>count</th>\n",
       "      <th>mean</th>\n",
       "      <th>std</th>\n",
       "      <th>min</th>\n",
       "      <th>25%</th>\n",
       "      <th>50%</th>\n",
       "      <th>75%</th>\n",
       "      <th>max</th>\n",
       "    </tr>\n",
       "  </thead>\n",
       "  <tbody>\n",
       "    <tr>\n",
       "      <th>customerid</th>\n",
       "      <td>200.0</td>\n",
       "      <td>100.50</td>\n",
       "      <td>57.879185</td>\n",
       "      <td>1.0</td>\n",
       "      <td>50.75</td>\n",
       "      <td>100.5</td>\n",
       "      <td>150.25</td>\n",
       "      <td>200.0</td>\n",
       "    </tr>\n",
       "    <tr>\n",
       "      <th>age</th>\n",
       "      <td>200.0</td>\n",
       "      <td>38.85</td>\n",
       "      <td>13.969007</td>\n",
       "      <td>18.0</td>\n",
       "      <td>28.75</td>\n",
       "      <td>36.0</td>\n",
       "      <td>49.00</td>\n",
       "      <td>70.0</td>\n",
       "    </tr>\n",
       "    <tr>\n",
       "      <th>annualincomek</th>\n",
       "      <td>200.0</td>\n",
       "      <td>60.56</td>\n",
       "      <td>26.264721</td>\n",
       "      <td>15.0</td>\n",
       "      <td>41.50</td>\n",
       "      <td>61.5</td>\n",
       "      <td>78.00</td>\n",
       "      <td>137.0</td>\n",
       "    </tr>\n",
       "    <tr>\n",
       "      <th>spendingscore</th>\n",
       "      <td>200.0</td>\n",
       "      <td>50.20</td>\n",
       "      <td>25.823522</td>\n",
       "      <td>1.0</td>\n",
       "      <td>34.75</td>\n",
       "      <td>50.0</td>\n",
       "      <td>73.00</td>\n",
       "      <td>99.0</td>\n",
       "    </tr>\n",
       "  </tbody>\n",
       "</table>\n",
       "</div>"
      ],
      "text/plain": [
       "               count    mean        std   min    25%    50%     75%    max\n",
       "customerid     200.0  100.50  57.879185   1.0  50.75  100.5  150.25  200.0\n",
       "age            200.0   38.85  13.969007  18.0  28.75   36.0   49.00   70.0\n",
       "annualincomek  200.0   60.56  26.264721  15.0  41.50   61.5   78.00  137.0\n",
       "spendingscore  200.0   50.20  25.823522   1.0  34.75   50.0   73.00   99.0"
      ]
     },
     "execution_count": 122,
     "metadata": {},
     "output_type": "execute_result"
    }
   ],
   "source": [
    "df.describe().T"
   ]
  },
  {
   "cell_type": "markdown",
   "id": "90fd27e6",
   "metadata": {},
   "source": [
    "We will use **annualincomek** (annual income in thousands of dollars) and **spendingscore** features to conduct clustering.<br/>\n",
    "Before conduct clustering, we will find the optimal number of clusters using several approaches.<br/><br/>"
   ]
  },
  {
   "cell_type": "markdown",
   "id": "6217f496",
   "metadata": {},
   "source": [
    "### Elbow Curve Method"
   ]
  },
  {
   "cell_type": "code",
   "execution_count": 123,
   "id": "f5e4e5ae",
   "metadata": {},
   "outputs": [
    {
     "data": {
      "image/png": "[encoded data removed]",
      "text/plain": [
       "<Figure size 720x504 with 1 Axes>"
      ]
     },
     "metadata": {
      "needs_background": "light"
     },
     "output_type": "display_data"
    }
   ],
   "source": [
    "x1 = df.annualincomek.tolist()\n",
    "x1 = x1[:300]\n",
    "x2 = df.spendingscore.tolist()\n",
    "x2 = x2[:300]\n",
    "plt.figure(figsize=(10,7))\n",
    "plt.scatter(x1, x2)\n",
    "plt.show()"
   ]
  },
  {
   "cell_type": "markdown",
   "id": "45f1023e",
   "metadata": {},
   "source": [
    "Visually we can see the number of clusters should be around 5, but it still does not enough to determine the optimal number of clusters."
   ]
  },
  {
   "cell_type": "code",
   "execution_count": 124,
   "id": "4ec90562",
   "metadata": {},
   "outputs": [
    {
     "data": {
      "text/html": [
       "<div>\n",
       "<style scoped>\n",
       "    .dataframe tbody tr th:only-of-type {\n",
       "        vertical-align: middle;\n",
       "    }\n",
       "\n",
       "    .dataframe tbody tr th {\n",
       "        vertical-align: top;\n",
       "    }\n",
       "\n",
       "    .dataframe thead th {\n",
       "        text-align: right;\n",
       "    }\n",
       "</style>\n",
       "<table border=\"1\" class=\"dataframe\">\n",
       "  <thead>\n",
       "    <tr style=\"text-align: right;\">\n",
       "      <th></th>\n",
       "      <th>x1</th>\n",
       "      <th>x2</th>\n",
       "    </tr>\n",
       "  </thead>\n",
       "  <tbody>\n",
       "    <tr>\n",
       "      <th>0</th>\n",
       "      <td>15</td>\n",
       "      <td>39</td>\n",
       "    </tr>\n",
       "    <tr>\n",
       "      <th>1</th>\n",
       "      <td>15</td>\n",
       "      <td>81</td>\n",
       "    </tr>\n",
       "    <tr>\n",
       "      <th>2</th>\n",
       "      <td>16</td>\n",
       "      <td>6</td>\n",
       "    </tr>\n",
       "    <tr>\n",
       "      <th>3</th>\n",
       "      <td>16</td>\n",
       "      <td>77</td>\n",
       "    </tr>\n",
       "    <tr>\n",
       "      <th>4</th>\n",
       "      <td>17</td>\n",
       "      <td>40</td>\n",
       "    </tr>\n",
       "  </tbody>\n",
       "</table>\n",
       "</div>"
      ],
      "text/plain": [
       "   x1  x2\n",
       "0  15  39\n",
       "1  15  81\n",
       "2  16   6\n",
       "3  16  77\n",
       "4  17  40"
      ]
     },
     "execution_count": 124,
     "metadata": {},
     "output_type": "execute_result"
    }
   ],
   "source": [
    "df1 = pd.DataFrame(x1, columns=['x1'])\n",
    "df1['x2'] = x2\n",
    "df1.head()"
   ]
  },
  {
   "cell_type": "code",
   "execution_count": 125,
   "id": "affbfba9",
   "metadata": {},
   "outputs": [
    {
     "data": {
      "image/png": "[encoded data removed]",
      "text/plain": [
       "<Figure size 720x504 with 1 Axes>"
      ]
     },
     "metadata": {
      "needs_background": "light"
     },
     "output_type": "display_data"
    }
   ],
   "source": [
    "sum_of_squared_distance = []\n",
    "k = range(1, 10)\n",
    "for num_clusters in k:\n",
    "    kmeans = KMeans(n_clusters=num_clusters)\n",
    "    kmeans.fit(df1)\n",
    "    sum_of_squared_distance.append(kmeans.inertia_)\n",
    "\n",
    "plt.figure(figsize=(10,7))\n",
    "plt.plot(k, sum_of_squared_distance, 'bx-')\n",
    "plt.axvline(5, linestyle='--', color='red')\n",
    "plt.xlabel('Numbers of Cluster(s)/K')\n",
    "plt.ylabel('Sum of squared distances/Intertia')\n",
    "plt.title('Elbow Method for Optimal K')\n",
    "plt.show()"
   ]
  },
  {
   "cell_type": "markdown",
   "id": "7966510d",
   "metadata": {},
   "source": [
    "The curve above tells us that elbow is at k=5 (the condition where sum of squared distance falls suddenly), it indicates that the optimal k for our datset is 5."
   ]
  },
  {
   "cell_type": "markdown",
   "id": "292cf756",
   "metadata": {},
   "source": [
    "### Silhouette Analysis"
   ]
  },
  {
   "cell_type": "code",
   "execution_count": 126,
   "id": "24347f57",
   "metadata": {},
   "outputs": [
    {
     "data": {
      "image/png": "[encoded data removed]",
      "text/plain": [
       "<Figure size 720x504 with 1 Axes>"
      ]
     },
     "metadata": {
      "needs_background": "light"
     },
     "output_type": "display_data"
    }
   ],
   "source": [
    "k = range(2,10)\n",
    "sil = []\n",
    "for num_clusters in k:\n",
    "    # initialise kmeans\n",
    "    kmeans= KMeans(n_clusters=num_clusters)\n",
    "    kmeans.fit(df1) \n",
    "    cluster_labels = kmeans.labels_\n",
    "    \n",
    "   # append silhouette score\n",
    "    sil.append(silhouette_score(df1, cluster_labels))\n",
    "\n",
    "plt.figure(figsize=(10,7))\n",
    "plt.plot(k, silhouette_avg, 'bx-')\n",
    "plt.axvline(5, linestyle='--', color='red')\n",
    "plt.axhline(.55, linestyle='--', color='green')\n",
    "plt.xlabel('Number of Cluster(s)/K') \n",
    "plt.ylabel('Silhouette Score') \n",
    "plt.title('Silhouette Analysis For Optimal k')\n",
    "plt.show()"
   ]
  },
  {
   "cell_type": "markdown",
   "id": "eebd2ce6",
   "metadata": {},
   "source": [
    "Since the highest silhouette score is around 0.55, hence we will choose 5 clusters."
   ]
  },
  {
   "cell_type": "markdown",
   "id": "fe410a14",
   "metadata": {},
   "source": [
    "### Dendrogram"
   ]
  },
  {
   "cell_type": "code",
   "execution_count": 133,
   "id": "6d0f2d01",
   "metadata": {},
   "outputs": [
    {
     "data": {
      "image/png": "[encoded data removed]",
      "text/plain": [
       "<Figure size 720x504 with 1 Axes>"
      ]
     },
     "metadata": {
      "needs_background": "light"
     },
     "output_type": "display_data"
    }
   ],
   "source": [
    "plt.figure(figsize=(10,7))\n",
    "plt.title('Mall Customers Dendrogram')\n",
    "dend = sch.dendrogram(sch.linkage(df1, method='ward'))\n",
    "plt.axhline(120, linestyle='--', color='red')\n",
    "plt.ylabel('Euclidean Distance')\n",
    "plt.xlabel('Nodes')\n",
    "plt.show()"
   ]
  },
  {
   "cell_type": "markdown",
   "id": "521757ae",
   "metadata": {},
   "source": [
    "The red horizontal line passes through 5 vertical lines resulting in 5 clusters. <br/><br/>\n",
    "\n",
    "Note:<br/>\n",
    "To draw that red horizontal line (threshold), we should start drawing it from the longest distance."
   ]
  }
 ],
 "metadata": {
  "kernelspec": {
   "display_name": "Python 3 (ipykernel)",
   "language": "python",
   "name": "python3"
  },
  "language_info": {
   "codemirror_mode": {
    "name": "ipython",
    "version": 3
   },
   "file_extension": ".py",
   "mimetype": "text/x-python",
   "name": "python",
   "nbconvert_exporter": "python",
   "pygments_lexer": "ipython3",
   "version": "3.10.4"
  }
 },
 "nbformat": 4,
 "nbformat_minor": 5
}
